{
 "cells": [
  {
   "cell_type": "code",
   "execution_count": 3,
   "id": "af517dc1-d9f1-45f5-8883-1b5e5d3df900",
   "metadata": {},
   "outputs": [
    {
     "name": "stderr",
     "output_type": "stream",
     "text": [
      "C:\\Users\\wenty\\AppData\\Local\\Packages\\PythonSoftwareFoundation.Python.3.10_qbz5n2kfra8p0\\LocalCache\\local-packages\\Python310\\site-packages\\sklearn\\cluster\\_kmeans.py:870: FutureWarning: The default value of `n_init` will change from 10 to 'auto' in 1.4. Set the value of `n_init` explicitly to suppress the warning\n",
      "  warnings.warn(\n"
     ]
    },
    {
     "name": "stdout",
     "output_type": "stream",
     "text": [
      "Grupo del punto [0, 0]: [1]\n",
      "Grupo del punto [12, 3]: [0]\n"
     ]
    }
   ],
   "source": [
    "from sklearn.cluster import KMeans\n",
    "\n",
    "# Datos: puntos en 2D\n",
    "X = [[1, 2], [1, 4], [1, 0],\n",
    "     [10, 2], [10, 4], [10, 0]]\n",
    "\n",
    "# Agrupar en 2 clusters\n",
    "kmeans = KMeans(n_clusters=2)\n",
    "kmeans.fit(X)\n",
    "\n",
    "# Ver a qué grupo pertenece un nuevo punto\n",
    "print(\"Grupo del punto [0, 0]:\", kmeans.predict([[0, 0]]))\n",
    "print(\"Grupo del punto [12, 3]:\", kmeans.predict([[12, 3]]))\n"
   ]
  },
  {
   "cell_type": "code",
   "execution_count": null,
   "id": "b246b4b7-bdde-45c5-a039-30d1574c5404",
   "metadata": {},
   "outputs": [],
   "source": []
  }
 ],
 "metadata": {
  "kernelspec": {
   "display_name": "Python 3 (ipykernel)",
   "language": "python",
   "name": "python3"
  },
  "language_info": {
   "codemirror_mode": {
    "name": "ipython",
    "version": 3
   },
   "file_extension": ".py",
   "mimetype": "text/x-python",
   "name": "python",
   "nbconvert_exporter": "python",
   "pygments_lexer": "ipython3",
   "version": "3.10.11"
  }
 },
 "nbformat": 4,
 "nbformat_minor": 5
}
