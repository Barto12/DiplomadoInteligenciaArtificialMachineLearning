{
 "cells": [
  {
   "cell_type": "code",
   "execution_count": 2,
   "id": "2a33621d-a142-4829-af8c-fd6daf92a9fc",
   "metadata": {},
   "outputs": [
    {
     "name": "stdout",
     "output_type": "stream",
     "text": [
      "¿Qué fruta es de 120g? [0]\n",
      "¿Qué fruta es de 220g? [1]\n"
     ]
    }
   ],
   "source": [
    "# Datos: [peso] Clasificar frutas por peso\n",
    "X = [[100], [150], [200], [250]]\n",
    "# Etiquetas: 0 = manzana, 1 = naranja\n",
    "y = [0, 0, 1, 1]\n",
    "\n",
    "from sklearn.tree import DecisionTreeClassifier\n",
    "\n",
    "# Crear y entrenar el modelo\n",
    "model = DecisionTreeClassifier()\n",
    "model.fit(X, y)\n",
    "\n",
    "# Predecir\n",
    "print(\"¿Qué fruta es de 120g?\", model.predict([[120]]))  # Esperado: manzana (0)\n",
    "print(\"¿Qué fruta es de 220g?\", model.predict([[220]]))  # Esperado: naranja (1)\n"
   ]
  },
  {
   "cell_type": "code",
   "execution_count": null,
   "id": "1bceeafa-e3a0-4253-bace-c71c0ea3ca3d",
   "metadata": {},
   "outputs": [],
   "source": []
  }
 ],
 "metadata": {
  "kernelspec": {
   "display_name": "Python 3 (ipykernel)",
   "language": "python",
   "name": "python3"
  },
  "language_info": {
   "codemirror_mode": {
    "name": "ipython",
    "version": 3
   },
   "file_extension": ".py",
   "mimetype": "text/x-python",
   "name": "python",
   "nbconvert_exporter": "python",
   "pygments_lexer": "ipython3",
   "version": "3.10.11"
  }
 },
 "nbformat": 4,
 "nbformat_minor": 5
}
