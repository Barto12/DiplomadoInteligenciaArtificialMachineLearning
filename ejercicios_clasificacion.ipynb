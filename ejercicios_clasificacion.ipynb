{
 "cells": [
  {
   "cell_type": "markdown",
   "id": "a9ac02e6",
   "metadata": {},
   "source": [
    "# 🧠 Diplomado de Inteligencia Artificial y Machine Learning\n",
    "## Ejercicios de Clasificación\n",
    "\n",
    "Resuelve los siguientes ejercicios modificando el código según se indica. Ejecuta cada celda y escribe una breve conclusión donde se te pida."
   ]
  },
  {
   "cell_type": "markdown",
   "id": "f28042b0",
   "metadata": {},
   "source": [
    "## 1. Modificar el tamaño del conjunto de prueba\n",
    "\n",
    "Cambia el `test_size` de 0.3 a **0.2** en la división del dataset Iris.\n",
    "\n",
    "**Pregunta:** ¿Cómo cambia la precisión de los modelos?"
   ]
  },
  {
   "cell_type": "code",
   "execution_count": null,
   "id": "9b81eef0",
   "metadata": {},
   "outputs": [],
   "source": [
    "# Código base\n",
    "from sklearn.datasets import load_iris\n",
    "from sklearn.model_selection import train_test_split\n",
    "from sklearn.linear_model import LogisticRegression\n",
    "from sklearn.metrics import classification_report\n",
    "\n",
    "iris = load_iris()\n",
    "X, y = iris.data, iris.target\n",
    "\n",
    "# Modifica aquí el test_size\n",
    "X_train, X_test, y_train, y_test = train_test_split(X, y, test_size=0.2, random_state=42)\n",
    "\n",
    "model = LogisticRegression(max_iter=200)\n",
    "model.fit(X_train, y_train)\n",
    "y_pred = model.predict(X_test)\n",
    "\n",
    "print(classification_report(y_test, y_pred))\n"
   ]
  },
  {
   "cell_type": "markdown",
   "id": "9d4ca9e1",
   "metadata": {},
   "source": [
    "## 2. Cambiar la profundidad máxima del Árbol de Decisión\n",
    "\n",
    "Agrega `max_depth=3` al Árbol de Decisión y observa el impacto en la precisión y el árbol."
   ]
  },
  {
   "cell_type": "code",
   "execution_count": null,
   "id": "2b19389c",
   "metadata": {},
   "outputs": [],
   "source": [
    "# Código base\n",
    "from sklearn.tree import DecisionTreeClassifier, plot_tree\n",
    "import matplotlib.pyplot as plt\n",
    "\n",
    "model_tree = DecisionTreeClassifier(max_depth=3)\n",
    "model_tree.fit(X_train, y_train)\n",
    "y_pred_tree = model_tree.predict(X_test)\n",
    "\n",
    "print(classification_report(y_test, y_pred_tree))\n",
    "\n",
    "# Visualizar el árbol\n",
    "plt.figure(figsize=(12,8))\n",
    "plot_tree(model_tree, filled=True, feature_names=iris.feature_names, class_names=iris.target_names)\n",
    "plt.show()\n"
   ]
  },
  {
   "cell_type": "markdown",
   "id": "0732a6fc",
   "metadata": {},
   "source": [
    "## 3. Cambiar número de vecinos en KNN\n",
    "\n",
    "Usa 3 y 10 vecinos y compara los resultados."
   ]
  },
  {
   "cell_type": "code",
   "execution_count": null,
   "id": "58229cf2",
   "metadata": {},
   "outputs": [],
   "source": [
    "from sklearn.neighbors import KNeighborsClassifier\n",
    "\n",
    "# Cambia aquí el número de vecinos\n",
    "model_knn = KNeighborsClassifier(n_neighbors=3)\n",
    "model_knn.fit(X_train, y_train)\n",
    "y_pred_knn = model_knn.predict(X_test)\n",
    "\n",
    "print(classification_report(y_test, y_pred_knn))\n"
   ]
  },
  {
   "cell_type": "markdown",
   "id": "d9624f91",
   "metadata": {},
   "source": [
    "## 4. Cambiar kernel en SVM\n",
    "\n",
    "Usa el kernel `'linear'` en el modelo SVM."
   ]
  },
  {
   "cell_type": "code",
   "execution_count": null,
   "id": "bd5c3782",
   "metadata": {},
   "outputs": [],
   "source": [
    "from sklearn.svm import SVC\n",
    "\n",
    "model_svm = SVC(kernel='linear')\n",
    "model_svm.fit(X_train, y_train)\n",
    "y_pred_svm = model_svm.predict(X_test)\n",
    "\n",
    "print(classification_report(y_test, y_pred_svm))\n"
   ]
  },
  {
   "cell_type": "markdown",
   "id": "7756ca4b",
   "metadata": {},
   "source": [
    "## 5. Utilizar el dataset Digits\n",
    "\n",
    "Carga el dataset `digits` y entrena un Árbol de Decisión o KNN sobre los datos."
   ]
  },
  {
   "cell_type": "code",
   "execution_count": null,
   "id": "c5da5fc9",
   "metadata": {},
   "outputs": [],
   "source": [
    "from sklearn.datasets import load_digits\n",
    "\n",
    "digits = load_digits()\n",
    "X_digits, y_digits = digits.data, digits.target\n",
    "\n",
    "X_train_d, X_test_d, y_train_d, y_test_d = train_test_split(X_digits, y_digits, test_size=0.3, random_state=42)\n",
    "\n",
    "model_tree_digits = DecisionTreeClassifier()\n",
    "model_tree_digits.fit(X_train_d, y_train_d)\n",
    "y_pred_digits = model_tree_digits.predict(X_test_d)\n",
    "\n",
    "print(classification_report(y_test_d, y_pred_digits))\n"
   ]
  },
  {
   "cell_type": "markdown",
   "id": "d6837973",
   "metadata": {},
   "source": [
    "## 6. Comparar Naive Bayes y Regresión Logística\n",
    "\n",
    "Entrena ambos modelos sobre el dataset Iris y compara precisión, recall y F1-Score."
   ]
  },
  {
   "cell_type": "code",
   "execution_count": null,
   "id": "b9481e9f",
   "metadata": {},
   "outputs": [],
   "source": [
    "from sklearn.naive_bayes import GaussianNB\n",
    "\n",
    "# Naive Bayes\n",
    "model_nb = GaussianNB()\n",
    "model_nb.fit(X_train, y_train)\n",
    "y_pred_nb = model_nb.predict(X_test)\n",
    "print(\"\\n=== Naive Bayes ===\")\n",
    "print(classification_report(y_test, y_pred_nb))\n",
    "\n",
    "# Regresión Logística\n",
    "model_logreg = LogisticRegression(max_iter=200)\n",
    "model_logreg.fit(X_train, y_train)\n",
    "y_pred_logreg = model_logreg.predict(X_test)\n",
    "print(\"\\n=== Regresión Logística ===\")\n",
    "print(classification_report(y_test, y_pred_logreg))\n"
   ]
  },
  {
   "cell_type": "markdown",
   "id": "f8a0f752",
   "metadata": {},
   "source": [
    "## 7. BONUS: Agregar validación cruzada\n",
    "\n",
    "Aplica validación cruzada con 5 particiones usando Regresión Logística."
   ]
  },
  {
   "cell_type": "code",
   "execution_count": null,
   "id": "bc9338d4",
   "metadata": {},
   "outputs": [],
   "source": [
    "from sklearn.model_selection import cross_val_score\n",
    "\n",
    "scores = cross_val_score(LogisticRegression(max_iter=200), X, y, cv=5)\n",
    "print(\"Precisión en cada partición:\", scores)\n",
    "print(\"Precisión promedio:\", scores.mean())\n"
   ]
  },
  {
   "cell_type": "markdown",
   "id": "16f0d5cf",
   "metadata": {},
   "source": [
    "¡Listo! 🚀 Recuerda escribir una breve conclusión para cada ejercicio sobre lo que observaste."
   ]
  }
 ],
 "metadata": {},
 "nbformat": 4,
 "nbformat_minor": 5
}
